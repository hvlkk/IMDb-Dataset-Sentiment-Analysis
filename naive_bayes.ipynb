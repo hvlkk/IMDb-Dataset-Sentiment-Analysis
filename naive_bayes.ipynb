{
 "cells": [
  {
   "cell_type": "markdown",
   "id": "264b9c285a3596fe",
   "metadata": {
    "collapsed": false
   },
   "source": [
    "# Naive Bayes\n",
    "We will be implementing the Bernoulli version of Naive Bayes."
   ]
  },
  {
   "cell_type": "markdown",
   "id": "b0c77554be48b7f7",
   "metadata": {
    "collapsed": false
   },
   "source": [
    "## Hyperparameter tweaking\n",
    "Following the assignment guidelines, we will be tweaking three hyperparameters throughout the testing of the project; m (for the size of the vocabulary), n (for the n most common words in the training data), and k (for the k least common words in the training data), the last 2 of which will not be included in the vocabulary."
   ]
  },
  {
   "cell_type": "code",
   "execution_count": 154,
   "id": "77b07ece71a8dfc0",
   "metadata": {
    "collapsed": false,
    "ExecuteTime": {
     "end_time": "2024-01-09T00:15:00.868827600Z",
     "start_time": "2024-01-09T00:15:00.855999600Z"
    }
   },
   "outputs": [],
   "source": [
    "from sklearn.naive_bayes import BernoulliNB\n",
    "\n",
    "m = 2500\n",
    "n = 200\n",
    "k = 50"
   ]
  },
  {
   "cell_type": "markdown",
   "id": "ae2e294f3fccfc94",
   "metadata": {
    "collapsed": false
   },
   "source": [
    "## Fetch data\n",
    "Fetching the reviews, while taking into account the aforementioned m, n and k hyperparameters."
   ]
  },
  {
   "cell_type": "code",
   "execution_count": 155,
   "id": "cea894557c4dba2e",
   "metadata": {
    "collapsed": false,
    "ExecuteTime": {
     "end_time": "2024-01-09T00:15:07.113691Z",
     "start_time": "2024-01-09T00:15:01.981098100Z"
    }
   },
   "outputs": [],
   "source": [
    "import tensorflow as tf\n",
    "import numpy as np\n",
    "\n",
    "# fetching the reviews\n",
    "(x_train_raw, y_train), (x_test_raw, y_test) = tf.keras.datasets.imdb.load_data(num_words=m-k, skip_top=n)\n",
    "\n",
    "# make a dictionary out of the words provided according to the above conditions \n",
    "word_index = tf.keras.datasets.imdb.get_word_index()\n",
    "index2word = dict((i + 3, word) for (word, i) in word_index.items())\n",
    "index2word[0] = '[pad]'\n",
    "index2word[1] = '[bos]'\n",
    "index2word[2] = '[oov]'\n",
    "\n",
    "# x_train and x_test will consist of strings that represent reviews, but limited to the dictionary provided\n",
    "x_train_text = np.array([' '.join([index2word[idx] for idx in text]) for text in x_train_raw])\n",
    "x_test_text = np.array([' '.join([index2word[idx] for idx in text]) for text in x_test_raw])"
   ]
  },
  {
   "cell_type": "markdown",
   "id": "eb0a24fe9a0b253",
   "metadata": {
    "collapsed": false
   },
   "source": [
    "## Vectorize data"
   ]
  },
  {
   "cell_type": "code",
   "execution_count": 156,
   "id": "a0b6807fc7a137cb",
   "metadata": {
    "collapsed": false,
    "ExecuteTime": {
     "end_time": "2024-01-09T00:15:15.232526200Z",
     "start_time": "2024-01-09T00:15:07.567255500Z"
    }
   },
   "outputs": [],
   "source": [
    "from sklearn.feature_extraction.text import CountVectorizer\n",
    "\n",
    "binary_vectorizer = CountVectorizer(binary=True)\n",
    "\n",
    "# transforming the train and test text reviews into binary matrices\n",
    "x_train_binary = binary_vectorizer.fit_transform(x_train_text)\n",
    "x_test_binary = binary_vectorizer.transform(x_test_text)\n",
    "\n",
    "feature_names = binary_vectorizer.get_feature_names_out()\n",
    "\n",
    "x_train = np.array(x_train_binary.toarray())\n",
    "x_test = np.array(x_test_binary.toarray())"
   ]
  },
  {
   "cell_type": "markdown",
   "source": [
    "## Information Gain"
   ],
   "metadata": {
    "collapsed": false
   },
   "id": "a90033c65711734d"
  },
  {
   "cell_type": "code",
   "execution_count": 157,
   "outputs": [],
   "source": [
    "import math\n",
    "\n",
    "def information_gain(class_, feature):\n",
    "    classes = set(class_)\n",
    "\n",
    "    Hc = 0\n",
    "    for c in classes:\n",
    "        pc = list(class_).count(c)/len(class_)\n",
    "        Hc += - pc * math.log(pc, 2)\n",
    "    print('Overall Entropy:', Hc)\n",
    "    feature_values = set(feature)\n",
    "\n",
    "    hc_feature = 0\n",
    "    for feat in feature_values:\n",
    "\n",
    "        #pf --> P(X=x)\n",
    "        pf = list(feature).count(feat)/len(feature)\n",
    "        indices = [i for i in range(len(feature)) if feature[i] == feat]\n",
    "        classes_of_feat = [class_[i] for i in indices]\n",
    "        for c in classes:\n",
    "            #pcf --> P(C=c|X=x)\n",
    "            pcf = classes_of_feat.count(c)/len(classes_of_feat)\n",
    "            if pcf != 0:\n",
    "                # - P(X=x) * P(C=c|X=x) * log2(P(C=c|X=x))\n",
    "                temp_H = - pf * pcf * math.log(pcf, 2)\n",
    "                #sum for all values of C (class) and X (values of specific feature)\n",
    "                hc_feature += temp_H\n",
    "    ig = Hc - hc_feature\n",
    "    return ig"
   ],
   "metadata": {
    "collapsed": false,
    "ExecuteTime": {
     "end_time": "2024-01-09T00:15:15.251568500Z",
     "start_time": "2024-01-09T00:15:15.234528400Z"
    }
   },
   "id": "8c0dc7c13be35728"
  },
  {
   "cell_type": "markdown",
   "source": [
    "## Bernoulli Naive Bayes"
   ],
   "metadata": {
    "collapsed": false
   },
   "id": "47ecd3a4031b37ca"
  },
  {
   "cell_type": "code",
   "execution_count": 158,
   "outputs": [],
   "source": [
    "class BernoulliNaiveBayes:\n",
    "    def __init__(self):\n",
    "        \"\"\"\n",
    "        apriori_positive: Initialised to the total number of positive reviews / the total number of reviews from our training data\n",
    "        apriori_negative: Initialised to the total number of negative reviews / the total number of reviews from our training data\n",
    "        \"\"\"\n",
    "        self.apriori_positive = None\n",
    "        self.apriori_negative = None\n",
    "        self.positive_category_feature_exists = None\n",
    "        self.negative_category_feature_exists = None\n",
    "    \n",
    "    def fit(self, x, y):\n",
    "        alpha = 1   # the parameter used for Laplace smoothing\n",
    "        \n",
    "        # apriori_positive/negative: p(C=1)/p(C=0) respectively for the training data\n",
    "        self.apriori_positive = len(np.where(y == 1)[0]) / len(y)\n",
    "        self.apriori_negative = len(np.where(y == 0)[0]) / len(y)\n",
    "\n",
    "        \"\"\"\n",
    "        positive_category_feature_exists/negative_category_feature_exists are two arrays of size equal to the total amount\n",
    "        of features (words in the vocabulary). Each index represents the (smoothed) probability the category will be\n",
    "        positive or negative respectively, given that the feature in that specific index is present in the training data.\n",
    "        In other words, for the m features present, the item on the i-th index of positive_category_feature_exists represents\n",
    "        the probability of p(Xi = xi | C = 1) for the i-th feature, and likewise p(Xi = xi | C = 0) for the negative category. \n",
    "        \"\"\"        \n",
    "        self.positive_category_feature_exists = (np.sum(x[y == 1], axis=0) + alpha) / (len(np.where(y == 1)[0]) + 2 * alpha)\n",
    "        self.negative_category_feature_exists = (np.sum(x[y == 0], axis=0) + alpha) / (len(np.where(y == 0)[0]) + 2 * alpha)\n",
    "        \n",
    "        return self\n",
    "    \n",
    "    def predict(self, x):\n",
    "\n",
    "        num_test_data = x.shape[0]\n",
    "\n",
    "        # making 2 num_test_data sized arrays consisting of the apriori positive/negative probabilities (to optimise the multiplication that follows)\n",
    "        positive_probs = np.full(num_test_data, self.apriori_positive)\n",
    "        negative_probs = np.full(num_test_data, self.apriori_negative)\n",
    "\n",
    "        \"\"\"\n",
    "        for each test sample, we multiply the apriori probabilities with feature-specific probabilities,\n",
    "        considering feature presence (positive/negative_category_feature_exists) or absence (complement\n",
    "        probabilities). Probabilities are filtered through exponentiation: x for feature presence, 1-x\n",
    "        for absence (since x==1 means the feature is present, and x==0 means the feature is absent).\n",
    "        \"\"\"\n",
    "        positive_probs *= np.prod(self.positive_category_feature_exists ** x * (1 - self.positive_category_feature_exists) ** (1 - x), axis=1)\n",
    "        negative_probs *= np.prod(self.negative_category_feature_exists ** x * (1 - self.negative_category_feature_exists) ** (1 - x), axis=1)\n",
    "\n",
    "        # for each test sample, choose the class with the higher probability for the final prediction\n",
    "        predictions = np.where(positive_probs > negative_probs, 1, 0)\n",
    "\n",
    "        return predictions"
   ],
   "metadata": {
    "collapsed": false,
    "ExecuteTime": {
     "end_time": "2024-01-09T00:15:15.267411400Z",
     "start_time": "2024-01-09T00:15:15.256661200Z"
    }
   },
   "id": "5212408abab69516"
  },
  {
   "cell_type": "markdown",
   "source": [
    "## Initial analysis\n",
    "Checking how well our naive bayes classifier performed against the test data, with the help of sklearn's classification report and confusion matrix"
   ],
   "metadata": {
    "collapsed": false
   },
   "id": "a4b8ae16b5124e1"
  },
  {
   "cell_type": "code",
   "execution_count": 160,
   "outputs": [
    {
     "name": "stdout",
     "output_type": "stream",
     "text": [
      "Classification Report:\n",
      "              precision    recall  f1-score   support\n",
      "\n",
      "           0       0.83      0.85      0.84     12500\n",
      "           1       0.85      0.83      0.84     12500\n",
      "\n",
      "    accuracy                           0.84     25000\n",
      "   macro avg       0.84      0.84      0.84     25000\n",
      "weighted avg       0.84      0.84      0.84     25000\n"
     ]
    },
    {
     "data": {
      "text/plain": "<Figure size 400x400 with 2 Axes>",
      "image/png": "[encoded data removed]"
     },
     "metadata": {},
     "output_type": "display_data"
    }
   ],
   "source": [
    "from sklearn.metrics import classification_report, confusion_matrix\n",
    "import seaborn as sns\n",
    "import matplotlib.pyplot as plt\n",
    "\n",
    "bernoulli_naive_bayes = BernoulliNaiveBayes()\n",
    "bernoulli_naive_bayes.fit(x_train, y_train)\n",
    "predictions = bernoulli_naive_bayes.predict(x_test)\n",
    "\n",
    "print(\"Classification Report:\")\n",
    "print(classification_report(y_test, predictions))\n",
    "\n",
    "# on top of the classification report, showcasing the confusion matrix\n",
    "conf_matrix = confusion_matrix(y_test, predictions)\n",
    "plt.figure(figsize=(4, 4))\n",
    "heatmap = sns.heatmap(conf_matrix, annot=True, fmt=\"d\", cbar=True)\n",
    "heatmap.set_xticklabels([\"Negative\", \"Positive\"])\n",
    "heatmap.set_yticklabels([\"Negative\", \"Positive\"])\n",
    "heatmap.set(title=\"Confusion Matrix Heatmap\", xlabel=\"Predicted\", ylabel=\"Actual\")\n",
    "plt.show()"
   ],
   "metadata": {
    "collapsed": false,
    "ExecuteTime": {
     "end_time": "2024-01-09T00:15:22.860106200Z",
     "start_time": "2024-01-09T00:15:20.201751900Z"
    }
   },
   "id": "7762f0eca9e9580d"
  }
 ],
 "metadata": {
  "kernelspec": {
   "display_name": "Python 3",
   "language": "python",
   "name": "python3"
  },
  "language_info": {
   "codemirror_mode": {
    "name": "ipython",
    "version": 2
   },
   "file_extension": ".py",
   "mimetype": "text/x-python",
   "name": "python",
   "nbconvert_exporter": "python",
   "pygments_lexer": "ipython2",
   "version": "2.7.6"
  }
 },
 "nbformat": 4,
 "nbformat_minor": 5
}
