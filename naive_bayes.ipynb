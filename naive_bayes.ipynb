{
 "cells": [
  {
   "cell_type": "markdown",
   "source": [
    "#Naive Bayes"
   ],
   "metadata": {
    "collapsed": false
   },
   "id": "264b9c285a3596fe"
  },
  {
   "cell_type": "code",
   "execution_count": null,
   "outputs": [],
   "source": [
    "import tensorflow as tf\n",
    "import numpy as np\n",
    "import matplotlib.pyplot as plt\n",
    "import pandas as pd"
   ],
   "metadata": {
    "collapsed": true
   },
   "id": "initial_id"
  },
  {
   "cell_type": "markdown",
   "source": [
    "##Hyperparameter configuration\n",
    "Following the assignment guidelines, we will be tweaking three major hyperparameters throughout the testing of the project; m which represents for the size of the dictionary, n for the n most common words, and k for the k least common words, the last 2 of which will not be included in the dictionary."
   ],
   "metadata": {
    "collapsed": false
   },
   "id": "b0c77554be48b7f7"
  },
  {
   "cell_type": "code",
   "execution_count": null,
   "outputs": [],
   "source": [
    "m = 2000\n",
    "n = 100\n",
    "k = 20"
   ],
   "metadata": {
    "collapsed": false
   },
   "id": "77b07ece71a8dfc0"
  }
 ],
 "metadata": {
  "kernelspec": {
   "display_name": "Python 3",
   "language": "python",
   "name": "python3"
  },
  "language_info": {
   "codemirror_mode": {
    "name": "ipython",
    "version": 2
   },
   "file_extension": ".py",
   "mimetype": "text/x-python",
   "name": "python",
   "nbconvert_exporter": "python",
   "pygments_lexer": "ipython2",
   "version": "2.7.6"
  }
 },
 "nbformat": 4,
 "nbformat_minor": 5
}
